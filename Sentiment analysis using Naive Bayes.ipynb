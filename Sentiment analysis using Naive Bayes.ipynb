{
 "cells": [
  {
   "cell_type": "markdown",
   "id": "5fa3d3b5",
   "metadata": {},
   "source": [
    "# Twitter Sentiment Analysis using naive bayes classifier "
   ]
  },
  {
   "cell_type": "code",
   "execution_count": 1,
   "id": "c383519e",
   "metadata": {},
   "outputs": [],
   "source": [
    "import nltk\n",
    "from nltk.corpus import twitter_samples\n",
    "import numpy as np"
   ]
  },
  {
   "cell_type": "code",
   "execution_count": 2,
   "id": "5d0350ba",
   "metadata": {},
   "outputs": [
    {
     "name": "stderr",
     "output_type": "stream",
     "text": [
      "[nltk_data] Downloading package twitter_samples to\n",
      "[nltk_data]     /home/preeti/nltk_data...\n",
      "[nltk_data]   Package twitter_samples is already up-to-date!\n"
     ]
    },
    {
     "data": {
      "text/plain": [
       "True"
      ]
     },
     "execution_count": 2,
     "metadata": {},
     "output_type": "execute_result"
    }
   ],
   "source": [
    "nltk.download('twitter_samples')"
   ]
  },
  {
   "cell_type": "code",
   "execution_count": 3,
   "id": "3b598cf5",
   "metadata": {},
   "outputs": [],
   "source": [
    "all_positive_tweets=twitter_samples.strings('positive_tweets.json')\n",
    "all_negative_tweets=twitter_samples.strings('negative_tweets.json')"
   ]
  },
  {
   "cell_type": "code",
   "execution_count": 4,
   "id": "c19872ef",
   "metadata": {},
   "outputs": [
    {
     "name": "stdout",
     "output_type": "stream",
     "text": [
      "Number of positive tweets : 5000\n",
      "Number of negative tweets: 5000\n",
      "The type of all positive tweet:  <class 'list'>\n",
      "the type of one entry : <class 'str'>\n"
     ]
    }
   ],
   "source": [
    "print(\"Number of positive tweets :\",len(all_positive_tweets))\n",
    "print(\"Number of negative tweets:\",len(all_negative_tweets))\n",
    "\n",
    "print(\"The type of all positive tweet: \",type(all_positive_tweets))\n",
    "print(\"the type of one entry :\",type(all_negative_tweets[0]))"
   ]
  },
  {
   "cell_type": "code",
   "execution_count": 5,
   "id": "d453ba09",
   "metadata": {},
   "outputs": [
    {
     "name": "stdout",
     "output_type": "stream",
     "text": [
      "positive tweet examples:\n",
      "#FollowFriday @France_Inte @PKuchly57 @Milipol_Paris for being top engaged members in my community this week :)\n",
      "negative tweet examples\n",
      "hopeless for tmr :(\n"
     ]
    }
   ],
   "source": [
    "print(\"positive tweet examples:\")\n",
    "print(all_positive_tweets[0])\n",
    "print(\"negative tweet examples\")\n",
    "print(all_negative_tweets[0])"
   ]
  },
  {
   "cell_type": "code",
   "execution_count": 6,
   "id": "d00a47d8",
   "metadata": {},
   "outputs": [],
   "source": [
    "#Preprocessing\n",
    "\n",
    "import re\n",
    "import string \n",
    "\n",
    "from nltk.corpus import stopwords\n",
    "from nltk.stem import PorterStemmer\n",
    "from nltk.tokenize import TweetTokenizer\n"
   ]
  },
  {
   "cell_type": "code",
   "execution_count": 7,
   "id": "b60f13a7",
   "metadata": {},
   "outputs": [],
   "source": [
    "# remover hyperlinks , \n",
    "def remove_hyperlinks_marks_styles(tweet):\n",
    "    #remove old style retweet text\"RT\"\n",
    "    new_tweet=re.sub(r'^RT[\\s]+','',tweet)\n",
    "    \n",
    "    # remove hyperlinks\n",
    "    new_tweet=re.sub(r'https?:\\/\\/.*[\\r\\n]*','',new_tweet)\n",
    "    \n",
    "    #remove hashtag\n",
    "    new_tweet=re.sub(r'#','',new_tweet)\n",
    "    \n",
    "    return new_tweet"
   ]
  },
  {
   "cell_type": "code",
   "execution_count": 8,
   "id": "22de3f9c",
   "metadata": {},
   "outputs": [],
   "source": [
    "# tokenize the string \n",
    "tokenizer=TweetTokenizer(preserve_case=False,strip_handles=True,reduce_len=True)\n",
    "\n",
    "def tokenize_tweet(tweet):\n",
    "    tweet_tokens=tokenizer.tokenize(tweet)\n",
    "    \n",
    "    return tweet_tokens"
   ]
  },
  {
   "cell_type": "code",
   "execution_count": 9,
   "id": "b290e09a",
   "metadata": {},
   "outputs": [
    {
     "name": "stderr",
     "output_type": "stream",
     "text": [
      "[nltk_data] Downloading package stopwords to /home/preeti/nltk_data...\n",
      "[nltk_data]   Package stopwords is already up-to-date!\n"
     ]
    }
   ],
   "source": [
    "# remove stop words and punctuation \n",
    "nltk.download('stopwords')\n",
    "# import the english stop words from nltk\n",
    "stopwords_english=stopwords.words('english')\n",
    "\n",
    "punctuation=string.punctuation\n",
    "\n",
    "def remove_stopwords_punctuation(tweet_tokens):\n",
    "    tweet_clean=[]\n",
    "    \n",
    "    for word in tweet_tokens:\n",
    "        if (word not in stopwords_english and word not in punctuation):\n",
    "            tweet_clean.append(word)\n",
    "            \n",
    "    return tweet_clean"
   ]
  },
  {
   "cell_type": "code",
   "execution_count": 10,
   "id": "f93b0721",
   "metadata": {},
   "outputs": [],
   "source": [
    "stemmer =PorterStemmer()\n",
    "def get_stem(tweet_clean):\n",
    "    tweet_stem=[]\n",
    "    for word in tweet_clean:\n",
    "        stem_word=stemmer.stem(word)\n",
    "        tweet_stem.append(stem_word)\n",
    "        \n",
    "    return tweet_stem"
   ]
  },
  {
   "cell_type": "code",
   "execution_count": 11,
   "id": "0ade6f19",
   "metadata": {},
   "outputs": [
    {
     "name": "stdout",
     "output_type": "stream",
     "text": [
      "My beautiful sunflowers on a sunny Friday morning off :) #sunflowers #favourites #happy #Friday off… https://t.co/3tfYom0N1i\n",
      "My beautiful sunflowers on a sunny Friday morning off :) sunflowers favourites happy Friday off… \n",
      "['my', 'beautiful', 'sunflowers', 'on', 'a', 'sunny', 'friday', 'morning', 'off', ':)', 'sunflowers', 'favourites', 'happy', 'friday', 'off', '…']\n",
      "['beautiful', 'sunflowers', 'sunny', 'friday', 'morning', ':)', 'sunflowers', 'favourites', 'happy', 'friday', '…']\n",
      "['beauti', 'sunflow', 'sunni', 'friday', 'morn', ':)', 'sunflow', 'favourit', 'happi', 'friday', '…']\n"
     ]
    }
   ],
   "source": [
    "tweet_example = all_positive_tweets[2277]\n",
    "print(tweet_example)\n",
    "\n",
    "processed_tweet=remove_hyperlinks_marks_styles(tweet_example)\n",
    "print(processed_tweet)\n",
    "\n",
    "tweet_token=tokenize_tweet(processed_tweet)\n",
    "print(tweet_token)\n",
    "\n",
    "tweet_clean=remove_stopwords_punctuation(tweet_token)\n",
    "print(tweet_clean)\n",
    "\n",
    "tweet_stem=get_stem(tweet_clean)\n",
    "print(tweet_stem)\n"
   ]
  },
  {
   "cell_type": "code",
   "execution_count": 12,
   "id": "b5befe5c",
   "metadata": {},
   "outputs": [],
   "source": [
    "# combine all preprocessing \n",
    "def process_tweet(tweet):\n",
    "    processed_tweet=remove_hyperlinks_marks_styles(tweet)\n",
    "    tweet_token=tokenize_tweet(processed_tweet)\n",
    "    tweet_clean=remove_stopwords_punctuation(tweet_token)\n",
    "    tweet_stem=get_stem(tweet_clean)\n",
    "    \n",
    "    return tweet_stem\n"
   ]
  },
  {
   "cell_type": "code",
   "execution_count": 13,
   "id": "fa969d34",
   "metadata": {},
   "outputs": [
    {
     "name": "stdout",
     "output_type": "stream",
     "text": [
      "@seanactual You mean you're not offering? :(\n",
      "['mean', 'offer', ':(']\n"
     ]
    }
   ],
   "source": [
    "tweet_example=all_negative_tweets[1000]\n",
    "print(tweet_example)\n",
    "\n",
    "final_tweet=process_tweet(tweet_example)\n",
    "print(final_tweet)\n"
   ]
  },
  {
   "cell_type": "code",
   "execution_count": 14,
   "id": "64fd0913",
   "metadata": {},
   "outputs": [],
   "source": [
    "# split the data into two parts , training and testing \n",
    "test_pos=all_positive_tweets[4000:]\n",
    "train_pos=all_positive_tweets[:4000]\n",
    "test_neg=all_negative_tweets[4000:]\n",
    "train_neg=all_negative_tweets[:4000]\n",
    "\n",
    "train_x=train_pos+train_neg\n",
    "test_x=test_pos+test_neg\n",
    "\n",
    "train_y=np.append(np.ones(len(train_pos)),np.zeros(len(train_neg)))\n",
    "test_y=np.append(np.ones(len(test_pos)),np.zeros(len(test_neg)))"
   ]
  },
  {
   "cell_type": "code",
   "execution_count": 15,
   "id": "e3f6fd74",
   "metadata": {},
   "outputs": [],
   "source": [
    "def create_frequency(tweets, ys):\n",
    "    \n",
    "    freq_d = {}\n",
    "\n",
    "    # TODO: Create frequency dictionary\n",
    "    for tweet,y in zip(tweets,ys):\n",
    "        for word in process_tweet(tweet):\n",
    "            pair=(word,y)\n",
    "            if pair in freq_d:\n",
    "                freq_d[pair]+=1\n",
    "            else:\n",
    "                freq_d[pair]=freq_d.get(pair,1)\n",
    "    ...\n",
    "    \n",
    "    return freq_d"
   ]
  },
  {
   "cell_type": "code",
   "execution_count": 16,
   "id": "a526590b",
   "metadata": {},
   "outputs": [
    {
     "name": "stdout",
     "output_type": "stream",
     "text": [
      "{('happi', 1): 1, ('trick', 0): 1, ('sad', 0): 1, ('tire', 0): 2}\n"
     ]
    }
   ],
   "source": [
    "# testing function\n",
    "\n",
    "tweets = ['i am happy', 'i am tricked', 'i am sad', 'i am tired', 'i am tired']\n",
    "ys = [1, 0, 0, 0, 0]\n",
    "\n",
    "freq_d = create_frequency(tweets, ys)\n",
    "print(freq_d)"
   ]
  },
  {
   "cell_type": "code",
   "execution_count": 17,
   "id": "e36c0fc5",
   "metadata": {},
   "outputs": [],
   "source": [
    "# build the freqs dictionary\n",
    "\n",
    "freqs = create_frequency(train_x, train_y)"
   ]
  },
  {
   "cell_type": "code",
   "execution_count": 18,
   "id": "77c3c0fd",
   "metadata": {},
   "outputs": [],
   "source": [
    "# train \n",
    "def train_naive_bayes(freqs, train_x, train_y):\n",
    "    '''\n",
    "    Input:\n",
    "        freqs: dictionary from (word, label) to how often the word appears\n",
    "        train_x: a list of tweets\n",
    "        train_y: a list of labels correponding to the tweets (0,1)\n",
    "    Output:\n",
    "        logprior: the log prior. (equation 3 above)\n",
    "        loglikelihood: the log likelihood of you Naive bayes equation. (equation 6 above)\n",
    "    '''\n",
    "    \n",
    "    loglikelihood = {}\n",
    "    logprior = 0\n",
    "    \n",
    "    # calculate the number of unique words in vocab\n",
    "    unique_words = set([pair[0] for pair in freqs.keys()])\n",
    "    V = len(unique_words)\n",
    "    \n",
    "    # calculate N_pos and N_neg\n",
    "    N_pos = N_neg = 0\n",
    "    for pair in freqs.keys():\n",
    "        \n",
    "        # TODO: get N_pos and N_get\n",
    "        if pair[1]>0:\n",
    "            N_pos+= freqs[(pair)]\n",
    "        else:\n",
    "            N_neg+= freqs[(pair)]\n",
    "        ...\n",
    "            \n",
    "    # TODO: calculate the number of documents (tweets)\n",
    "    D = train_y.shape[0]\n",
    "    \n",
    "    # TODO: calculate D_pos, the number of positive documents (tweets)\n",
    "    D_pos = sum(train_y)\n",
    "    \n",
    "    # TODO: calculate D_neg, the number of negative documents (tweets)\n",
    "    D_neg = D-sum(train_y)\n",
    "    \n",
    "    # TODO: calculate logprior\n",
    "    logprior = np.log(D_pos)-np.log(D_neg)\n",
    "    \n",
    "    # for each unqiue word\n",
    "    for word in unique_words:\n",
    "        \n",
    "        # get the positive and negative frequency of the word\n",
    "        freq_pos = freqs.get((word,1),0)\n",
    "        freq_neg = freqs.get((word,0),0)\n",
    "        \n",
    "        # calculate the probability that word is positive, and negative\n",
    "        p_w_pos = (freq_pos+1)/(freq_pos+V)\n",
    "        p_w_neg = (freq_neg+1)/(freq_neg+V)\n",
    "        \n",
    "        # calculate the log likelihood of the word\n",
    "        loglikelihood[word] = np.log(p_w_pos/p_w_neg)\n",
    "        \n",
    "    return logprior, loglikelihood"
   ]
  },
  {
   "cell_type": "code",
   "execution_count": 19,
   "id": "c17f83a9",
   "metadata": {},
   "outputs": [
    {
     "name": "stdout",
     "output_type": "stream",
     "text": [
      "0.0\n",
      "9083\n"
     ]
    }
   ],
   "source": [
    "logprior, loglikelihood = train_naive_bayes(freqs, train_x, train_y)\n",
    "print(logprior)\n",
    "print(len(loglikelihood))"
   ]
  },
  {
   "cell_type": "code",
   "execution_count": 20,
   "id": "578e1c92",
   "metadata": {},
   "outputs": [],
   "source": [
    "# UNQ_C4 (UNIQUE CELL IDENTIFIER, DO NOT EDIT)\n",
    "def naive_bayes_predict(tweet, logprior, loglikelihood):\n",
    "    '''\n",
    "    Input:\n",
    "        tweet: a string\n",
    "        logprior: a number\n",
    "        loglikelihood: a dictionary of words mapping to numbers\n",
    "    Output:\n",
    "        p: the sum of all the logliklihoods of each word in the tweet (if found in the dictionary) + logprior (a number)\n",
    "\n",
    "    '''\n",
    "\n",
    "    # TODO: process the tweet to get a list of words\n",
    "    word_l = process_tweet(tweet)\n",
    "\n",
    "    # TODO: initialize probability to zero\n",
    "    p = 0\n",
    "\n",
    "    # TODO: add the logprior\n",
    "    p += logprior\n",
    "\n",
    "    for word in word_l:\n",
    "\n",
    "        # TODO: get log likelihood of each keyword\n",
    "        if word in loglikelihood:\n",
    "            p+=loglikelihood[word]\n",
    "\n",
    "    return p"
   ]
  },
  {
   "cell_type": "code",
   "execution_count": 21,
   "id": "817eb137",
   "metadata": {},
   "outputs": [
    {
     "name": "stdout",
     "output_type": "stream",
     "text": [
      "I am happy -> 2.13\n",
      "I am bad -> -1.29\n",
      "this movie should have been great. -> 2.12\n",
      "great -> 2.12\n",
      "great great -> 4.24\n",
      "great great great -> 6.36\n",
      "great great great great -> 8.48\n",
      "bad bad bad bad -> -5.18\n"
     ]
    }
   ],
   "source": [
    "# Run this cell to test your function\n",
    "for tweet in ['A dear', 'I am bad', 'this movie should have been great.', 'great', 'great great', 'great great great', 'great great great great', 'bad bad bad bad']:\n",
    "    # print( '%s -> %f' % (tweet, naive_bayes_predict(tweet, logprior, loglikelihood)))\n",
    "    p = naive_bayes_predict(tweet, logprior, loglikelihood)\n",
    "#     print(f'{tweet} -> {p:.2f} ({p_category})')\n",
    "    print(f'{tweet} -> {p:.2f}')"
   ]
  },
  {
   "cell_type": "code",
   "execution_count": null,
   "id": "461feae8",
   "metadata": {},
   "outputs": [],
   "source": []
  }
 ],
 "metadata": {
  "kernelspec": {
   "display_name": "Python 3",
   "language": "python",
   "name": "python3"
  },
  "language_info": {
   "codemirror_mode": {
    "name": "ipython",
    "version": 3
   },
   "file_extension": ".py",
   "mimetype": "text/x-python",
   "name": "python",
   "nbconvert_exporter": "python",
   "pygments_lexer": "ipython3",
   "version": "3.8.8"
  }
 },
 "nbformat": 4,
 "nbformat_minor": 5
}
